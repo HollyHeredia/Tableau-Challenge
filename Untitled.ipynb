{
 "cells": [
  {
   "cell_type": "code",
   "execution_count": 1,
   "metadata": {},
   "outputs": [],
   "source": [
    "import pandas as pd\n",
    "import datetime"
   ]
  },
  {
   "cell_type": "code",
   "execution_count": 3,
   "metadata": {},
   "outputs": [
    {
     "data": {
      "text/plain": [
       "ride_id               71428\n",
       "rideable_type         71428\n",
       "started_at            71428\n",
       "ended_at              71428\n",
       "start_station_name    71428\n",
       "start_station_id      71428\n",
       "end_station_name      71202\n",
       "end_station_id        71202\n",
       "start_lat             71428\n",
       "start_lng             71428\n",
       "end_lat               71255\n",
       "end_lng               71255\n",
       "member_casual         71428\n",
       "dtype: int64"
      ]
     },
     "execution_count": 3,
     "metadata": {},
     "output_type": "execute_result"
    }
   ],
   "source": [
    "Jun2021 = pd.read_csv('JC-202106-citibike-tripdata.csv')\n",
    "Jun2021.count()"
   ]
  },
  {
   "cell_type": "code",
   "execution_count": 4,
   "metadata": {},
   "outputs": [
    {
     "data": {
      "text/plain": [
       "tripduration               11624\n",
       "starttime                  11624\n",
       "stoptime                   11624\n",
       "start station id           11624\n",
       "start station name         11624\n",
       "start station latitude     11624\n",
       "start station longitude    11624\n",
       "end station id             11624\n",
       "end station name           11624\n",
       "end station latitude       11624\n",
       "end station longitude      11624\n",
       "bikeid                     11624\n",
       "usertype                   11624\n",
       "birth year                 11624\n",
       "gender                     11624\n",
       "dtype: int64"
      ]
     },
     "execution_count": 4,
     "metadata": {},
     "output_type": "execute_result"
    }
   ],
   "source": [
    "Jan2021 = pd.read_csv('JC-202101-citibike-tripdata.csv')\n",
    "Jan2021.count()"
   ]
  },
  {
   "cell_type": "code",
   "execution_count": null,
   "metadata": {},
   "outputs": [],
   "source": []
  }
 ],
 "metadata": {
  "kernelspec": {
   "display_name": "Python [conda env:DataBoot]",
   "language": "python",
   "name": "conda-env-DataBoot-py"
  },
  "language_info": {
   "codemirror_mode": {
    "name": "ipython",
    "version": 3
   },
   "file_extension": ".py",
   "mimetype": "text/x-python",
   "name": "python",
   "nbconvert_exporter": "python",
   "pygments_lexer": "ipython3",
   "version": "3.6.10"
  }
 },
 "nbformat": 4,
 "nbformat_minor": 4
}
